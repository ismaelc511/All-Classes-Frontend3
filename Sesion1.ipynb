{
  "nbformat": 4,
  "nbformat_minor": 0,
  "metadata": {
    "colab": {
      "provenance": [],
      "authorship_tag": "ABX9TyOZemNjHJNpqg24cFV7gUMI",
      "include_colab_link": true
    },
    "kernelspec": {
      "name": "python3",
      "display_name": "Python 3"
    },
    "language_info": {
      "name": "python"
    }
  },
  "cells": [
    {
      "cell_type": "markdown",
      "metadata": {
        "id": "view-in-github",
        "colab_type": "text"
      },
      "source": [
        "<a href=\"https://colab.research.google.com/github/ismaelc511/All-Classes-Frontend3/blob/main/Sesion1.ipynb\" target=\"_parent\"><img src=\"https://colab.research.google.com/assets/colab-badge.svg\" alt=\"Open In Colab\"/></a>"
      ]
    },
    {
      "cell_type": "code",
      "execution_count": null,
      "metadata": {
        "id": "RztuRutVcu4m"
      },
      "outputs": [],
      "source": []
    },
    {
      "cell_type": "markdown",
      "source": [
        "Introducción a la ciencia de datos"
      ],
      "metadata": {
        "id": "AZ7LbT5sc0qV"
      }
    },
    {
      "cell_type": "markdown",
      "source": [
        "Python features:\n",
        "\n",
        "- Lenguaje de programación de alto nivel (aproxima las lineas de código al lenguaje común)\n",
        "- Lenguaje interpretado\n",
        "- Lenguaje de tipado dinámico\n",
        "- Open source free\n",
        "- POO"
      ],
      "metadata": {
        "id": "zf1oWGbcc7uH"
      }
    },
    {
      "cell_type": "code",
      "source": [
        "print('Hello world')"
      ],
      "metadata": {
        "colab": {
          "base_uri": "https://localhost:8080/"
        },
        "id": "C7paEoakdOrm",
        "outputId": "d5b6fbb2-8d04-4da5-e868-0857e6adafe0"
      },
      "execution_count": 1,
      "outputs": [
        {
          "output_type": "stream",
          "name": "stdout",
          "text": [
            "Hello world\n"
          ]
        }
      ]
    }
  ]
}